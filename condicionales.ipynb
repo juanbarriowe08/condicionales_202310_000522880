{
  "nbformat": 4,
  "nbformat_minor": 0,
  "metadata": {
    "colab": {
      "provenance": [],
      "authorship_tag": "ABX9TyMaKU+H32HzIe92U7WIwtq5",
      "include_colab_link": true
    },
    "kernelspec": {
      "name": "python3",
      "display_name": "Python 3"
    },
    "language_info": {
      "name": "python"
    }
  },
  "cells": [
    {
      "cell_type": "markdown",
      "metadata": {
        "id": "view-in-github",
        "colab_type": "text"
      },
      "source": [
        "<a href=\"https://colab.research.google.com/github/juanbarriowe08/condicionales_202310_000522880/blob/main/condicionales.ipynb\" target=\"_parent\"><img src=\"https://colab.research.google.com/assets/colab-badge.svg\" alt=\"Open In Colab\"/></a>"
      ]
    },
    {
      "cell_type": "code",
      "execution_count": 2,
      "metadata": {
        "id": "S8aLAEIQC8XH"
      },
      "outputs": [],
      "source": [
        "##juan pablo barrios villalba\n",
        "##     000522880\n",
        "\n",
        "##juan.barriosv@upb.edu.co"
      ]
    },
    {
      "cell_type": "markdown",
      "source": [],
      "metadata": {
        "id": "kKdVq4yWC_LZ"
      }
    },
    {
      "cell_type": "code",
      "source": [],
      "metadata": {
        "id": "NXOiB9umE0_L"
      },
      "execution_count": null,
      "outputs": []
    },
    {
      "cell_type": "code",
      "source": [
        "#calcular estado de una calificacion.\n",
        "\n",
        "calificacion  = float(input(\"Nota:\"))\n",
        "\n",
        "\n",
        "if calificacion  >= 4.5:\n",
        "    print(\"Excelente\")\n",
        "    \n",
        "\n",
        "elif 4.0 <= calificacion  < 4.5:\n",
        "    print(\"Buena\") \n",
        "    \n",
        "\n",
        "elif 3.0 <= calificacion  < 4.0:\n",
        "    print(\"Regular\")\n",
        "        \n",
        "\n",
        "else:\n",
        "    print(\"Malo\")"
      ],
      "metadata": {
        "colab": {
          "base_uri": "https://localhost:8080/"
        },
        "id": "pPKdcejQGMYL",
        "outputId": "b3a29eff-33e0-426a-b6a7-e71e89f16f0e"
      },
      "execution_count": 7,
      "outputs": [
        {
          "output_type": "stream",
          "name": "stdout",
          "text": [
            "Nota:4\n",
            "Buena\n"
          ]
        }
      ]
    },
    {
      "cell_type": "code",
      "source": [],
      "metadata": {
        "id": "ljPQ6rG1G3j5"
      },
      "execution_count": null,
      "outputs": []
    }
  ]
}